{
 "cells": [
  {
   "cell_type": "markdown",
   "id": "916b85f3",
   "metadata": {},
   "source": [
    "#### Swift uvw2, uvm2, uvw1, u, b and v band light curves of type Ia supernova\n",
    "Data obtained from https://pbrown801.github.io/SOUSA/ \\\n",
    "Galactic Extinction from https://irsa.ipac.caltech.edu/applications/DUST/ \\\n",
    "For those supernovae for which host extinction is not available only Galactic extinction has been considered."
   ]
  },
  {
   "cell_type": "markdown",
   "id": "dc026225",
   "metadata": {},
   "source": [
    "| Name    | Type   |  Max jd (Swift-$b$)   |   Max mag (Swift-$b$) | Redshift | E(B-V)Gal | E(B-V)Host | Comments | # Before Peak | Ref | \n",
    "|---|---|---|---|---|---|---|---|---|---|\n",
    "| 2005cf | Ia | 2453534.74 +/- 0.60 | 13.56 +/-0.05 | 0.006461 | 0.0832 +/-0.0013 | 0.09 +/- 0.03 | No | 5 | Wang 2009 |\n",
    "| 2009dc | SC-Ia | 2454942.24 +/- 0.70 | 15.26 +/- 0.14 | 0.021580 | 0.0597 +/- 0.0015 | 0.10 +/- 0.07 | Yes | 0 | Taubenberger 2011 |\n",
    "| 2011de | UV-bright | 2455715.82 +/- 0.45 | 15.94 +/- 0.04 | 0.029187 | 0.0256 +/- 0.0004 | 0.0 +/- 0.0 | No | 2 | Brown 2014 |\n",
    "| 2011aa | Ia-pec | 2455612.60 +/- 0.37 | 14.80 +/- 0.02 | 0.013 | 0.065 +/- 0.003 | 0.0 +/- 0.0 | No | 5 | Brown 2014 |\n",
    "| 2011fe | Ia | 2455817.23 +/- 1.02 | 7.20 +/- 0.23 | 0.00081 | 0.0074 +/- 0.0001 | 0.032 +/- 0.045 | Yes | 10 | Zhang 2016 |\n",
    "| 2012dn | SC-Ia | 2456133.54 +/- 0.44 | 14.35 +/- 0.02 | 0.010 | 0.0519 +/- 0.0009 | 0.12 +/- 0.01 | No | 5 |Chakradhari 2018 |\n",
    "| 2009ig | HV Ia | 2455078.86 +/- 0.77 | 13.53 +/- 0.02 | 0.009 | 0.0269 +/- 0.0008 | 0.03 +/- 0.01 | Yes | 8 |Chakradhari 2019 |\n",
    "| 2012cg | Ia | 2456081.27 +/- 0.90 | 12.16 +/- 0.02 | 0.0014 | 0.0179 +/- 0.0004 | 0.18 +/- 0.05 | Yes | 9 | Chakradhari 2019 |\n",
    "| 2017cbv |\n",
    "| 2018oh |\n",
    "| 2017hpa |\n",
    "| 2019np |\n",
    "| 2020uxz |\n",
    "| 2021fxy |\n",
    "| 2012fr |\n",
    "| 2019ein |\n",
    "| 2019muj |\n",
    "| 2011ay |\n",
    "| 2005hk |\n",
    "| 2014dt |\n",
    "| 2012Z |\n",
    "| 2006X |\n",
    "| 2015bp |\n",
    "| 2009jr |\n",
    "| 2007ax |\n",
    "| 2005ke |\n",
    "| 2007cq |\n",
    "| 2017erp |\n"
   ]
  },
  {
   "cell_type": "markdown",
   "id": "2acbd50e",
   "metadata": {},
   "source": [
    "2009dc - No swift-b band data point before maximum. \\\n",
    "2009dc - Used B-max from Taubenberger et al. $B_{max}$ = 2454947.1\\\n",
    "2011fe - No swift-b band data point near maximum. Use optical B-band data. \\\n",
    "2011fe - Used B-max from Zhang et al. $B_{max}$ = 2455814.98\\\n",
    "2009ig - Use Photometric values from Foley et al. (2018) "
   ]
  },
  {
   "cell_type": "code",
   "execution_count": null,
   "id": "47df44e1",
   "metadata": {},
   "outputs": [],
   "source": []
  }
 ],
 "metadata": {
  "kernelspec": {
   "display_name": "Python 3 (ipykernel)",
   "language": "python",
   "name": "python3"
  },
  "language_info": {
   "codemirror_mode": {
    "name": "ipython",
    "version": 3
   },
   "file_extension": ".py",
   "mimetype": "text/x-python",
   "name": "python",
   "nbconvert_exporter": "python",
   "pygments_lexer": "ipython3",
   "version": "3.9.5"
  }
 },
 "nbformat": 4,
 "nbformat_minor": 5
}
