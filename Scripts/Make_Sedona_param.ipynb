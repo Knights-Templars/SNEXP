{
 "cells": [
  {
   "cell_type": "code",
   "execution_count": 95,
   "id": "df8d118e",
   "metadata": {},
   "outputs": [],
   "source": [
    "import os"
   ]
  },
  {
   "cell_type": "code",
   "execution_count": 96,
   "id": "72329804",
   "metadata": {},
   "outputs": [],
   "source": [
    "version = 1.0\n",
    "model_file = \"sed_model_\" + str(version) + \"_1.7e+51.mod\"\n",
    "param_file = \"param_model_\" + str(version) + \"_1.7e+51.lua\""
   ]
  },
  {
   "cell_type": "code",
   "execution_count": 97,
   "id": "3998b634",
   "metadata": {},
   "outputs": [],
   "source": [
    "folder_path = '/Users/anirbandutta/Documents/SNEXP/Violent_Merger_2012_Model_Ejecta/'"
   ]
  },
  {
   "cell_type": "code",
   "execution_count": 98,
   "id": "a5e40625",
   "metadata": {},
   "outputs": [],
   "source": [
    "f = open(folder_path + param_file, 'w')\n",
    "f.write('-- param file for running the light curve of a 1D Type Ia-like supernova' + '\\n')\n",
    "f.write('-- using LTE and line expansion opacity' + '\\n')\n",
    "f.write('-- atomic line data taken from kurucz list (\"fuzz\")' + '\\n')\n",
    "f.write(\"\\n\")\n",
    "f.write('-- model type and file' + '\\n')\n",
    "f.write('grid_type = \"grid_1D_sphere\"' + '\\n')\n",
    "f.write('model_file = \"%s\"'%model_file + '\\n')\n",
    "f.write('hydro_module = \"homologous\"' + '\\n')\n",
    "f.write(\"\\n\")\n",
    "f.write('-- home directory and atomic data files' + '\\n')\n",
    "f.write(\"\\n\")\n",
    "f.write('sedona_home = os.getenv(\"SEDONA_HOME\")' + '\\n')\n",
    "f.write('defaults_file = sedona_home..\"/defaults/sedona_defaults.lua\"' + '\\n')\n",
    "f.write('data_atomic_file   = sedona_home..\"/data/ASD_atomdata.hdf5\"' + '\\n')\n",
    "f.write('data_fuzzline_file = sedona_home..\"/data/kurucz_cd23_fuzz.hdf5\"' + '\\n')\n",
    "f.write(\"\\n\")\n",
    "f.write(\"-- helper variable\" + '\\n')\n",
    "f.write(\"days = 3600.0*24\" + '\\n')\n",
    "f.write(\"\\n\")\n",
    "f.write(\"-- total number of particles used initially\" + '\\n')\n",
    "f.write(\"particles_n_initialize = 1e6\" + '\\n')\n",
    "f.write(\"-- number of particles emitted per time step from radioactivity\" + '\\n')\n",
    "f.write(\"particles_n_emit_radioactive = 1e6\" + '\\n')\n",
    "f.write(\"particles_last_iter_pump = 10\" + '\\n')\n",
    "f.write(\"\\n\")\n",
    "f.write(\"-- time start/stop and stepping\" + '\\n')\n",
    "f.write(\"tstep_time_start = 1*days\" + '\\n')\n",
    "f.write(\"tstep_time_stop = 100*days\" + '\\n')\n",
    "f.write(\"tstep_max_dt = 1.0*days\" + '\\n')\n",
    "f.write(\"tstep_max_delta = 0.1\" + '\\n')\n",
    "f.write(\"\\n\")\n",
    "f.write(\"-- frequency grid to calculate and store opacities\" + '\\n')\n",
    "f.write(\"nu1 = 1e14\" + '\\n')\n",
    "f.write(\"nu2 = 2e16\" + '\\n')\n",
    "f.write(\"transport_nu_grid = {nu1,nu2,0.0003,1}\" + '\\n')\n",
    "f.write(\"\\n\")\n",
    "f.write(\"-- frequency grid to calculate output spectrum\" + '\\n')\n",
    "f.write(\"nu1_spec = nu1*1.1\" + '\\n')\n",
    "f.write(\"spectrum_nu_grid = {nu1_spec,nu2,0.002,1}\" + '\\n')\n",
    "f.write(\"spectrum_time_grid = {0*days,100*days,1.0*days}\" + '\\n')\n",
    "f.write(\"output_time_write = 1*days\" + '\\n')\n",
    "f.write(\"output_write_radiation = 1\" + '\\n')\n",
    "f.write(\"\\n\")\n",
    "f.write(\"-- opacity settings\" + '\\n')\n",
    "f.write(\"opacity_grey_opacity = 0.0\" + '\\n')\n",
    "f.write(\"opacity_epsilon = 1.0\" + '\\n')\n",
    "f.write(\"opacity_electron_scattering = 1\" + '\\n')\n",
    "f.write(\"opacity_free_free = 1\" + '\\n')\n",
    "f.write(\"opacity_bound_bound = 1\" + '\\n')\n",
    "f.write(\"opacity_bound_free = 1\" + '\\n')\n",
    "f.write(\"opacity_line_expansion = 1\" + '\\n')\n",
    "f.write(\"opacity_fuzz_expansion = 1\" + '\\n')\n",
    "f.write(\"\\n\")\n",
    "f.write(\"-- transport settings\" + '\\n')\n",
    "f.write(\"transport_steady_iterate = 0\" + '\\n')\n",
    "f.write(\"transport_radiative_equilibrium = 1\" + '\\n')\n",
    "\n",
    "\n",
    "f.close()"
   ]
  },
  {
   "cell_type": "code",
   "execution_count": null,
   "id": "d5777c8a",
   "metadata": {},
   "outputs": [],
   "source": []
  },
  {
   "cell_type": "code",
   "execution_count": null,
   "id": "9bca156d",
   "metadata": {},
   "outputs": [],
   "source": []
  }
 ],
 "metadata": {
  "kernelspec": {
   "display_name": "Python 3 (ipykernel)",
   "language": "python",
   "name": "python3"
  },
  "language_info": {
   "codemirror_mode": {
    "name": "ipython",
    "version": 3
   },
   "file_extension": ".py",
   "mimetype": "text/x-python",
   "name": "python",
   "nbconvert_exporter": "python",
   "pygments_lexer": "ipython3",
   "version": "3.9.5"
  }
 },
 "nbformat": 4,
 "nbformat_minor": 5
}
