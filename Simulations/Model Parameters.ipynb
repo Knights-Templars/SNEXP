{
 "cells": [
  {
   "cell_type": "markdown",
   "id": "971ae8f0",
   "metadata": {},
   "source": [
    "| Model Name | WD mass (M$_{\\odot}$) | KE (erg) | $^{56}$Ni (M$_{\\odot}$) | $\\epsilon$ | Comments |\n",
    "|---|---|---|---|---|---|\n",
    "| Model 1 | 1.4 | 1e51 | 0.633 | 1.0 | - |\n",
    "| Model 2 | 1.4 | 1e51 | 0.652 | 1.0 | Decreased O increased Ni and Fe |\n",
    "| Model 3 | 1.4 | 1e51 | 0.556 | 1.0 | Stratified atmosphere |\n",
    "| Model 4 | 1.4 | 1e51 | 0.563 | 1.0 | Stratified atmosphere (1e5 particles)|\n",
    "| Model 5 | 1.4 | 1e51 | 0.563 | 1.0 | 1e6 particles |"
   ]
  },
  {
   "cell_type": "code",
   "execution_count": null,
   "id": "d981f9a6",
   "metadata": {},
   "outputs": [],
   "source": [
    "#Model1\n",
    "#layer1 = Layers({C12: 0.45, O16:0.5, Ne20: 0.05})\n",
    "#layer2 = Layers({C12: 0.1, O16: 0.1, Mg24: 0.05, Si28: 0.45, S32: 0.2, Ca40: 0.10})\n",
    "#layer3 = Layers({Ni56: 0.8, C12: 0.01, O16: 0.05, Si28: 0.05, Fe54: 0.09})\n",
    "#layer4 = Layers({Fe54: 0.3, Ni58: 0.2, Si28: 0.05, O16: 0.1, C12: 0.01, Ni56: 0.34})\n",
    "#---------------------------------------------------------------------------------------\n",
    "#Model2\n",
    "# layer1 = Layers({C12: 0.45, O16:0.5, Ne20: 0.05})\n",
    "# layer2 = Layers({C12: 0.1, O16: 0.1, Mg24: 0.05, Si28: 0.45, S32: 0.2, Ca40: 0.10})\n",
    "# layer3 = Layers({Ni56: 0.8, C12: 0.01, O16: 0.01, Si28: 0.07, Fe54: 0.11})\n",
    "# layer4 = Layers({Fe54: 0.35, Ni58: 0.2, Si28: 0.05, O16: 0.01, C12: 0.01, Ni56: 0.38})\n",
    "#---------------------------------------------------------------------------------------\n",
    "#Model3\n",
    "# layer1 = Layers({C12: 0.45, O16:0.5, Ne20: 0.05})\n",
    "# layer2 = Layers({C12: 0.1, O16: 0.1, Mg24: 0.05, Si28: 0.45, S32: 0.2, Ca40: 0.10})\n",
    "# layer3 = Layers({Ni56: 0.8, C12: 0.01, O16: 0.01, Si28: 0.07, Fe54: 0.11})\n",
    "# layer4 = Layers({Fe54: 0.35, Ni58: 0.2, Si28: 0.05, O16: 0.01, C12: 0.01, Ni56: 0.38})\n",
    "#---------------------------------------------------------------------------------------\n",
    "#Model4\n",
    "# layer1 = Layers({C12: 0.45, O16: 0.5, Ne20: 0.05})\n",
    "# layer2 = Layers({C12: 0.30, O16: 0.30, Mg24: 0.10, Si28:0.1, Ca40: 0.10})\n",
    "# layer3 = Layers({C12: 0.10, O16: 0.20, Mg24: 0.10, Si28:0.4, Ca40: 0.20})\n",
    "# layer4 = Layers({Ni56: 0.5, Si28: 0.37, S32: 0.08, Fe54: 0.05})\n",
    "# layer5 = Layers({Fe54: 0.30, Ni58: 0.2, Ni56: 0.50})\n",
    "\n",
    "# layermasses = [0.5, 0.5, 0.1, 0.1, 0.2], boxsize = 0.01 M\n",
    "#---------------------------------------------------------------------------------------"
   ]
  },
  {
   "cell_type": "code",
   "execution_count": null,
   "id": "ac6b592d",
   "metadata": {},
   "outputs": [],
   "source": []
  }
 ],
 "metadata": {
  "kernelspec": {
   "display_name": "Python 3 (ipykernel)",
   "language": "python",
   "name": "python3"
  },
  "language_info": {
   "codemirror_mode": {
    "name": "ipython",
    "version": 3
   },
   "file_extension": ".py",
   "mimetype": "text/x-python",
   "name": "python",
   "nbconvert_exporter": "python",
   "pygments_lexer": "ipython3",
   "version": "3.9.5"
  }
 },
 "nbformat": 4,
 "nbformat_minor": 5
}
