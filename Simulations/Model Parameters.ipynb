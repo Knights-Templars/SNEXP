{
 "cells": [
  {
   "cell_type": "markdown",
   "id": "6d4295ce",
   "metadata": {},
   "source": [
    "| Model Name | WD mass (M$_{\\odot}$) | KE (erg) | $^{56}$Ni (M$_{\\odot}$) | $\\epsilon$ |\n",
    "|---|---|---|---|---| \n",
    "| Model 1 | 1.4 | 1e51 | 0.633 | 1.0 |"
   ]
  },
  {
   "cell_type": "code",
   "execution_count": null,
   "id": "35363cae",
   "metadata": {},
   "outputs": [],
   "source": []
  },
  {
   "cell_type": "code",
   "execution_count": null,
   "id": "25cbaad0",
   "metadata": {},
   "outputs": [],
   "source": []
  }
 ],
 "metadata": {
  "kernelspec": {
   "display_name": "Python 3 (ipykernel)",
   "language": "python",
   "name": "python3"
  },
  "language_info": {
   "codemirror_mode": {
    "name": "ipython",
    "version": 3
   },
   "file_extension": ".py",
   "mimetype": "text/x-python",
   "name": "python",
   "nbconvert_exporter": "python",
   "pygments_lexer": "ipython3",
   "version": "3.9.5"
  }
 },
 "nbformat": 4,
 "nbformat_minor": 5
}
