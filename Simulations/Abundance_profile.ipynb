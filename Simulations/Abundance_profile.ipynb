{
 "cells": [
  {
   "cell_type": "markdown",
   "id": "2851e036",
   "metadata": {},
   "source": [
    "Elements for a CO WD type Ia supernova\n",
    "\n",
    "H1 --> 1, 1, 1.00727 (accreted from companion) \\\n",
    "H2 --> 2, 1, 2.0140  (accreted from companion) \\\n",
    "He3 --> 3, 2, 3.01603 (accreted from companion) \\\n",
    "He4 --> 4, 2, 4.00260 (accreted from companion) \\\n",
    "C12 --> 12, 6, 12. (CNO ) \\\n",
    "N14 -->  14, 7, 14.007 (CNO) \\\n",
    "O16 --> 16, 8, 15.994 (CNO) \\\n",
    "Ne20 --> 20, 10, 20.1797 (alpha network) \\\n",
    "Mg24 --> 24, 12, 24.3050 (alpha network) \\\n",
    "Si28 --> 28, 14, 27.976 (alpha network) \\\n",
    "S32 --> 32, 16, 31.972 (alpha network) \\\n",
    "Ar36 --> 36, 18, 35.967 (alpha network) \\\n",
    "Ca40 --> 40, 20, 39.962 (alpha network) \\\n",
    "Ti44 --> 44, 22, 43.9596 (alpha network) \\\n",
    "Cr48 --> 48, 24, 47.9540 (alpha network) \\\n",
    "Fe52 --> 52, 26, 51.9481 (alpha network) \\\n",
    "Fe54 --> 54, 26, 53.939 (electron capture) \\\n",
    "Ni56 --> 56, 28, 55.940 (alpha network) \\\n",
    "Co56 --> 56, 27, 55.9398393 (decay of 56Ni) \\\n",
    "Fe56 --> 56, 26, 55.9349 (decay of 56Co) \\\n",
    "Fe57 --> 57, 26, 56.9353 (decay of 58Fe) \\\n",
    "Fe58 --> 58, 26, 57.9332 (neutron capture) \\\n",
    "Ni58 --> 58, 28, 57.9353429 (neutron capture) "
   ]
  },
  {
   "cell_type": "code",
   "execution_count": 1,
   "id": "97df9930",
   "metadata": {},
   "outputs": [],
   "source": [
    "import os\n",
    "import numpy as np\n",
    "import matplotlib.pyplot as plt\n",
    "import pandas as pd"
   ]
  },
  {
   "cell_type": "code",
   "execution_count": 19,
   "id": "410c1bdf",
   "metadata": {},
   "outputs": [],
   "source": [
    "class elements:\n",
    "    \n",
    "    def __init__(self, A, Z, weight, repr):\n",
    "        \n",
    "        '''\n",
    "        A: maass number\n",
    "        Z: atomin number\n",
    "        weight: atomic weight (in amu)\n",
    "        \n",
    "        '''\n",
    "        \n",
    "        self.A = A\n",
    "        self.Z = Z\n",
    "        self.weight = weight\n",
    "        self.repr = repr\n",
    "        \n",
    "    def __repr__(self):\n",
    "        \n",
    "        '''\n",
    "        representation object\n",
    "        \n",
    "        '''\n",
    "        \n",
    "        return '%s: A=%d, Z=%d, weight=%.3f' %(self.repr, self.A,\n",
    "                                              self.Z, self.weight)\n",
    "    \n",
    "\n",
    "class Layers:\n",
    "    \n",
    "    def __init__(self, abundances):\n",
    "        \n",
    "        '''\n",
    "        abundances: Abundances of the layers\n",
    "        \n",
    "        '''\n",
    "        \n",
    "        self.normalization = sum(abundances.values())\n",
    "        self.abundances = {key:abundances[key]/self.normalization \n",
    "                          for key in abundances}\n",
    "        \n",
    "    def __repr__(self):\n",
    "        \n",
    "        s = 'Layer:\\n'\n",
    "        return s + '\\n'.join(['\\t%s abundance = %.3e' % (key, self.abundances[key])\n",
    "                             for key in self.abundances])"
   ]
  },
  {
   "cell_type": "code",
   "execution_count": 23,
   "id": "c6431b90",
   "metadata": {},
   "outputs": [],
   "source": [
    "# A supernova atmosphere\n",
    "\n",
    "# Unburned \n",
    "\n",
    "C12 = elements(12, 6, 12., 'C12')\n",
    "O16 = elements(16, 8, 15.994, 'O16')\n",
    "Ne20 = elements( 20, 10, 20.1797, 'Ne20')\n",
    "\n",
    "# IME\n",
    "\n",
    "Mg24 = elements(24, 12, 24.3050, 'Mg24')\n",
    "Si28 = elements(28, 14, 27.976, 'Si28')\n",
    "S32 = elements(32, 16, 31.972, 'S32')\n",
    "Ca40 = elements(40, 20, 39.962, 'Ca40')\n",
    "\n",
    "# IGE \n",
    "\n",
    "Fe54 = elements(54, 26, 53.939, 'Fe54')\n",
    "Ni58 = elements(58, 28, 57.9353429, 'Ni58')\n",
    "\n",
    "# Ni56\n",
    "\n",
    "Ni56 = elements(56, 28, 55.940, 'Ni56')"
   ]
  },
  {
   "cell_type": "code",
   "execution_count": 26,
   "id": "bd272e91",
   "metadata": {},
   "outputs": [],
   "source": [
    "# Ejecta Layers\n",
    "\n",
    "co = Layers({C12: 0.45, O16: 0.5, Ne20: 0.05})\n",
    "\n",
    "ime = Layers({Si28: 0.50, S32: 0.3, Ca40: 0.10, Ar36: 0.08})\n",
    "\n",
    "ige = Layers({Fe54: 0.5, Ni58: 0.5})\n",
    "\n",
    "ni = Layers({Ni56: 1.0})"
   ]
  },
  {
   "cell_type": "code",
   "execution_count": 30,
   "id": "223d284a",
   "metadata": {},
   "outputs": [
    {
     "data": {
      "text/plain": [
       "Layer:\n",
       "\tSi28: A=28, Z=14, weight=27.976 abundance = 5.102e-01\n",
       "\tS32: A=32, Z=16, weight=31.972 abundance = 3.061e-01\n",
       "\tCa40: A=40, Z=20, weight=39.962 abundance = 1.020e-01\n",
       "\tAr36: A=36, Z=18, weight=35.967 abundance = 8.163e-02"
      ]
     },
     "execution_count": 30,
     "metadata": {},
     "output_type": "execute_result"
    }
   ],
   "source": [
    "ime"
   ]
  },
  {
   "cell_type": "code",
   "execution_count": null,
   "id": "f72cb94a",
   "metadata": {},
   "outputs": [],
   "source": []
  }
 ],
 "metadata": {
  "kernelspec": {
   "display_name": "Python 3 (ipykernel)",
   "language": "python",
   "name": "python3"
  },
  "language_info": {
   "codemirror_mode": {
    "name": "ipython",
    "version": 3
   },
   "file_extension": ".py",
   "mimetype": "text/x-python",
   "name": "python",
   "nbconvert_exporter": "python",
   "pygments_lexer": "ipython3",
   "version": "3.9.5"
  }
 },
 "nbformat": 4,
 "nbformat_minor": 5
}
