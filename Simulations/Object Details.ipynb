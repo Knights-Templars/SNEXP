{
 "cells": [
  {
   "cell_type": "markdown",
   "id": "7e71143d",
   "metadata": {},
   "source": [
    "\n",
    "\n",
    "\n"
   ]
  },
  {
   "cell_type": "markdown",
   "id": "735e9ae0",
   "metadata": {},
   "source": [
    "| Object | z | $E(B-V)_{Gal}$ | $\\rm E(B-V)_{Host}$ | $\\mu$ | $B_{\\rm max}$ | $H_{0}~(km~s^{-1}~Mpc^{-1})$ |\n",
    "| --- |  --- | :-: | :-: | :-: | --- | --- |\n",
    "| SN 2017hpa | 0.016 | $0.1518 \\pm 0.0069$  | $0.08 \\pm 0.06 $ | $34.08 \\pm 0.09 $ | $2458066.29$ | $73.0$ |\n",
    "| SN 2011aa | 0.013 | $0.065 \\pm 0.003$ | $0.0 \\pm 0.0$ | $33.66 \\pm 0.27$ | $2455611.65$ | $73.0$| \n",
    "| SN 2012dn | 0.010 | $0.06 \\pm 0.0009$ | $0.12 \\pm 0.01$ | $33.12 \\pm 0.36$ | $2456132.89$ | $73.0$ |\n",
    "| SN 2006bt | 0.033 | $0.0424 \\pm 0.0013$ | $0.0$ | $35.72 \\pm 0.11$ | $2453856.9$ | $73.0$ |\n",
    "| SN 2018oh | 0.0109 | $0.0369 \\pm 0.0027$ | $0.0$ | $33.61 \\pm 0.05$ | $2458162.9$ | $73.0$ | "
   ]
  },
  {
   "cell_type": "code",
   "execution_count": null,
   "id": "4aca0087",
   "metadata": {},
   "outputs": [],
   "source": []
  },
  {
   "cell_type": "code",
   "execution_count": null,
   "id": "69304ca4",
   "metadata": {},
   "outputs": [],
   "source": []
  }
 ],
 "metadata": {
  "kernelspec": {
   "display_name": "Python 3 (ipykernel)",
   "language": "python",
   "name": "python3"
  },
  "language_info": {
   "codemirror_mode": {
    "name": "ipython",
    "version": 3
   },
   "file_extension": ".py",
   "mimetype": "text/x-python",
   "name": "python",
   "nbconvert_exporter": "python",
   "pygments_lexer": "ipython3",
   "version": "3.9.5"
  }
 },
 "nbformat": 4,
 "nbformat_minor": 5
}
