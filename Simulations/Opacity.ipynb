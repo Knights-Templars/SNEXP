{
 "cells": [
  {
   "cell_type": "code",
   "execution_count": 22,
   "id": "19651ee8",
   "metadata": {},
   "outputs": [],
   "source": [
    "import h5py\n",
    "import numpy as np\n",
    "import matplotlib.pyplot as plt"
   ]
  },
  {
   "cell_type": "code",
   "execution_count": 2,
   "id": "c7bcd37a",
   "metadata": {},
   "outputs": [],
   "source": [
    "file_name = '/Users/anirbandutta/Documents/SNEXP/Sedona_Models_Proj/plt_00023.h5'"
   ]
  },
  {
   "cell_type": "code",
   "execution_count": 3,
   "id": "3b0f3726",
   "metadata": {},
   "outputs": [],
   "source": [
    "f = h5py.File(file_name, 'r')"
   ]
  },
  {
   "cell_type": "code",
   "execution_count": 4,
   "id": "6297df28",
   "metadata": {},
   "outputs": [
    {
     "data": {
      "text/plain": [
       "['T_gas',\n",
       " 'T_rad',\n",
       " 'e_nuc_dep',\n",
       " 'e_nuc_emit',\n",
       " 'n_elec',\n",
       " 'nu',\n",
       " 'planck_mean',\n",
       " 'r',\n",
       " 'r_inner',\n",
       " 'rho',\n",
       " 'rosseland_mean',\n",
       " 'time',\n",
       " 'velr',\n",
       " 'zonedata']"
      ]
     },
     "execution_count": 4,
     "metadata": {},
     "output_type": "execute_result"
    }
   ],
   "source": [
    "list(f.keys())"
   ]
  },
  {
   "cell_type": "code",
   "execution_count": 20,
   "id": "e40b3ee5",
   "metadata": {},
   "outputs": [
    {
     "data": {
      "text/plain": [
       "<KeysViewHDF5 ['Jnu', 'emissivity', 'epsilon', 'opacity']>"
      ]
     },
     "execution_count": 20,
     "metadata": {},
     "output_type": "execute_result"
    }
   ],
   "source": [
    "f['zonedata/1/'].keys()"
   ]
  },
  {
   "cell_type": "code",
   "execution_count": 21,
   "id": "8d9dee91",
   "metadata": {},
   "outputs": [],
   "source": [
    "# pltfile = h5py.File('reference.h5', 'r')\n",
    "#     nu_r = np.array(pltfile[\"nu\"])\n",
    "#     opac_r = np.array(pltfile[\"zonedata/0/opacity\"])\n",
    "#     lam_r = 3e18/nu_r\n",
    "#     plt.plot(lam_r,opac_r,lw=3,color='r')\n"
   ]
  },
  {
   "cell_type": "code",
   "execution_count": 23,
   "id": "0075af69",
   "metadata": {},
   "outputs": [
    {
     "data": {
      "text/plain": [
       "[<matplotlib.lines.Line2D at 0x7fa5028996d0>]"
      ]
     },
     "execution_count": 23,
     "metadata": {},
     "output_type": "execute_result"
    },
    {
     "data": {
      "image/png": "[encoded data removed]",
      "text/plain": [
       "<Figure size 432x288 with 1 Axes>"
      ]
     },
     "metadata": {
      "needs_background": "light"
     },
     "output_type": "display_data"
    }
   ],
   "source": [
    "nu_r = np.array(f['nu'])\n",
    "opac_r = np.array(f['zonedata/0/opacity'])\n",
    "lam_r = 3e18 / nu_r\n",
    "plt.plot(lam_r, opac_r, lw=3, color='r')"
   ]
  },
  {
   "cell_type": "code",
   "execution_count": 24,
   "id": "1b2ade09",
   "metadata": {},
   "outputs": [],
   "source": [
    "spectrum_h5 = '/Users/anirbandutta/Documents/SNEXP/Sedona_Models_Proj/spectrum_20.h5'"
   ]
  },
  {
   "cell_type": "code",
   "execution_count": 25,
   "id": "9870f35c",
   "metadata": {},
   "outputs": [],
   "source": [
    "spec = h5py.File(spectrum_h5, 'r')"
   ]
  },
  {
   "cell_type": "code",
   "execution_count": 26,
   "id": "98dd752f",
   "metadata": {},
   "outputs": [
    {
     "data": {
      "text/plain": [
       "['Lnu',\n",
       " 'click',\n",
       " 'mu',\n",
       " 'mu_edges',\n",
       " 'nu',\n",
       " 'nu_edges',\n",
       " 'phi',\n",
       " 'phi_edges',\n",
       " 'time',\n",
       " 'time_edges']"
      ]
     },
     "execution_count": 26,
     "metadata": {},
     "output_type": "execute_result"
    }
   ],
   "source": [
    "list(spec.keys())"
   ]
  },
  {
   "cell_type": "code",
   "execution_count": 28,
   "id": "7e5540af",
   "metadata": {},
   "outputs": [
    {
     "data": {
      "text/plain": [
       "<HDF5 dataset \"click\": shape (70, 2605), type \"<f8\">"
      ]
     },
     "execution_count": 28,
     "metadata": {},
     "output_type": "execute_result"
    }
   ],
   "source": [
    "spec['click']"
   ]
  },
  {
   "cell_type": "code",
   "execution_count": null,
   "id": "2c89bfa3",
   "metadata": {},
   "outputs": [],
   "source": []
  }
 ],
 "metadata": {
  "kernelspec": {
   "display_name": "Python 3 (ipykernel)",
   "language": "python",
   "name": "python3"
  },
  "language_info": {
   "codemirror_mode": {
    "name": "ipython",
    "version": 3
   },
   "file_extension": ".py",
   "mimetype": "text/x-python",
   "name": "python",
   "nbconvert_exporter": "python",
   "pygments_lexer": "ipython3",
   "version": "3.9.5"
  }
 },
 "nbformat": 4,
 "nbformat_minor": 5
}
